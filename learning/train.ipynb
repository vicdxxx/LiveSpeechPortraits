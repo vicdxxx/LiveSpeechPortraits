{
 "cells": [
  {
   "cell_type": "code",
   "execution_count": 1,
   "metadata": {},
   "outputs": [],
   "source": [
    "import torch\n",
    "import torch.nn as nn\n",
    "import torch.nn.functional as F\n",
    "from torch.optim import lr_scheduler\n",
    "import sys\n",
    "import os\n",
    "sys.path.append('..')"
   ]
  },
  {
   "cell_type": "code",
   "execution_count": 12,
   "metadata": {},
   "outputs": [
    {
     "name": "stdout",
     "output_type": "stream",
     "text": [
      "opt: Namespace(A2L_GMM_ndim=75, APC_frame_history=0, APC_hidden_size=512, APC_residual=False, APC_rnn_layers=3, FPS='60', LSTM_dropout=0, LSTM_hidden_size=256, LSTM_layers=3, LSTM_output_size=80, LSTM_residual=False, LSTM_sequence_length=60, audioRF_future=0, audioRF_history=60, audio_encoder='APC', batch_size=32, checkpoints_dir='./checkpoints/', continue_train=False, dataroot='../data', dataset_mode='audiovisual', dataset_names='common_voice', epoch_count=0, feature_decoder='LSTM', feature_dtype='pts3d', frame_future=18, frame_jump_stride=4, gamma=0.2, gaussian_noise=1, gaussian_noise_scale=0.01, gpu_ids='0', ispts_norm=1, load_epoch='200', loss='L2', loss_smooth_weight=0.0, lr=0.0001, lr_decay_iters=250, lr_final=1e-05, lr_policy='linear', max_dataset_size=inf, model='audio2feature', n_epochs=200, n_epochs_decay=200, name='Audio2Feature', num_threads=0, only_mouth=1, optimizer='Adam', phase='train', predict_length=1, re_transform=0, sample_rate=16000, save_by_iter=True, save_epoch_freq=5, sequence_length=240, serial_batches=True, suffix='vic', task='Audio2Feature', train_dataset_names='train_list.txt', use_delta_pts=1, validate_dataset_names='val_list.txt', validate_epoch=10, verbose=True)\n",
      "----------------- Options ---------------\n",
      "             A2L_GMM_ndim: 75                            \n",
      "        APC_frame_history: 0                             \n",
      "          APC_hidden_size: 512                           \n",
      "             APC_residual: False                         \n",
      "           APC_rnn_layers: 3                             \n",
      "                      FPS: 60                            \t[default: 60]\n",
      "             LSTM_dropout: 0                             \n",
      "         LSTM_hidden_size: 256                           \n",
      "              LSTM_layers: 3                             \n",
      "         LSTM_output_size: 80                            \n",
      "            LSTM_residual: False                         \n",
      "     LSTM_sequence_length: 60                            \n",
      "           audioRF_future: 0                             \n",
      "          audioRF_history: 60                            \n",
      "            audio_encoder: APC                           \n",
      "               batch_size: 32                            \n",
      "          checkpoints_dir: ./checkpoints/                \n",
      "           continue_train: False                         \n",
      "                 dataroot: ../data                       \t[default: default_path]\n",
      "             dataset_mode: audiovisual                   \n",
      "            dataset_names: common_voice                  \t[default: default_name]\n",
      "              epoch_count: 0                             \n",
      "          feature_decoder: LSTM                          \n",
      "            feature_dtype: pts3d                         \n",
      "             frame_future: 18                            \n",
      "        frame_jump_stride: 4                             \n",
      "                    gamma: 0.2                           \n",
      "           gaussian_noise: 1                             \n",
      "     gaussian_noise_scale: 0.01                          \n",
      "                  gpu_ids: 0                             \n",
      "                  isTrain: True                          \t[default: None]\n",
      "               ispts_norm: 1                             \n",
      "               load_epoch: 200                           \n",
      "                     loss: L2                            \n",
      "       loss_smooth_weight: 0.0                           \n",
      "                       lr: 0.0001                        \n",
      "           lr_decay_iters: 250                           \n",
      "                 lr_final: 1e-05                         \n",
      "                lr_policy: linear                        \t[default: step]\n",
      "         max_dataset_size: inf                           \n",
      "                    model: audio2feature                 \n",
      "                 n_epochs: 200                           \t[default: 500]\n",
      "           n_epochs_decay: 200                           \t[default: 250]\n",
      "                     name: Audio2Feature_vic             \t[default: Audio2Feature]\n",
      "              num_threads: 0                             \n",
      "               only_mouth: 1                             \n",
      "                optimizer: Adam                          \t[default: AdamW]\n",
      "                    phase: train                         \n",
      "           predict_length: 1                             \n",
      "             re_transform: 0                             \n",
      "              sample_rate: 16000                         \n",
      "             save_by_iter: True                          \t[default: False]\n",
      "          save_epoch_freq: 5                             \n",
      "          sequence_length: 240                           \n",
      "           serial_batches: True                          \t[default: False]\n",
      "                   suffix: vic                           \t[default: ]\n",
      "                     task: Audio2Feature                 \n",
      "      train_dataset_names: train_list.txt                \n",
      "            use_delta_pts: 1                             \n",
      "   validate_dataset_names: val_list.txt                  \n",
      "           validate_epoch: 10                            \t[default: 50]\n",
      "                  verbose: True                          \t[default: False]\n",
      "----------------- End -------------------\n"
     ]
    }
   ],
   "source": [
    "import argparse\n",
    "from options.train_audio2feature_options import TrainOptions\n",
    "from models import networks\n",
    "\n",
    "parser = argparse.ArgumentParser()\n",
    "to = TrainOptions()\n",
    "# --continue_train --load_epoch 0 --epoch_count 0\n",
    "# --dataroot ../data\n",
    "args_raw = '--task Audio2Feature --model audio2feature --dataset_mode audiovisual --name Audio2Feature --gpu_ids 0 \\\n",
    "    --dataset_names common_voice --dataroot ../data \\\n",
    "    --frame_jump_stride 4 --num_threads 0 --batch_size 32 --serial_batches \\\n",
    "    --audio_encoder APC --feature_decoder LSTM --loss L2 --sequence_length 240 --FPS 60 --sample_rate 16000 \\\n",
    "    --audioRF_history 60 --audioRF_future 0 --feature_dtype pts3d --ispts_norm 1 --use_delta_pts 1 --frame_future 18 \\\n",
    "    --predict_length 1 --only_mouth 1 --verbose --suffix vic \\\n",
    "    --save_epoch_freq 5 --save_by_iter --phase train --re_transform 0 \\\n",
    "    --train_dataset_names train_list.txt --validate_dataset_names val_list.txt \\\n",
    "    --n_epochs 200 --lr_policy linear --lr 1e-4 --lr_final 1e-5 --n_epochs_decay 200 \\\n",
    "    --validate_epoch 10 --loss_smooth_weight 0 --optimizer Adam'\n",
    "args_raw = args_raw.split(' ')\n",
    "args = []\n",
    "for x in args_raw:\n",
    "    if len(x.strip()) > 0:\n",
    "        args.append(x)\n",
    "#opt = to.gather_options(args=args)\n",
    "opt = to.parse(args=args)\n",
    "\n",
    "#--frame_jump_stride, --feature_decoder, --feature_dtype, --frame_future"
   ]
  },
  {
   "cell_type": "code",
   "execution_count": 13,
   "metadata": {},
   "outputs": [
    {
     "name": "stdout",
     "output_type": "stream",
     "text": [
      "initialize network with normal\n"
     ]
    }
   ],
   "source": [
    "from models import audio2feature\n",
    "Audio2Feature = networks.init_net(audio2feature.Audio2Feature(opt), init_type='normal', init_gain=0.02, gpu_ids=opt.gpu_ids)\n",
    "\n",
    "optimizer = torch.optim.Adam([{'params': Audio2Feature.parameters(),\n",
    "                                                'initial_lr': opt.lr}], lr=opt.lr, betas=(0.9, 0.999))"
   ]
  },
  {
   "cell_type": "code",
   "execution_count": 9,
   "metadata": {},
   "outputs": [
    {
     "name": "stdout",
     "output_type": "stream",
     "text": [
      "200\n",
      "200\n"
     ]
    },
    {
     "data": {
      "text/plain": [
       "[<matplotlib.lines.Line2D at 0x2054525bfa0>]"
      ]
     },
     "execution_count": 9,
     "metadata": {},
     "output_type": "execute_result"
    },
    {
     "data": {
      "image/png": "[encoded data removed]",
      "text/plain": [
       "<Figure size 432x288 with 1 Axes>"
      ]
     },
     "metadata": {
      "needs_background": "light"
     },
     "output_type": "display_data"
    }
   ],
   "source": [
    "import matplotlib.pyplot as plt\n",
    "%matplotlib inline\n",
    "import numpy as np\n",
    "def lambda_rule(epoch):\n",
    "    min_scale = opt.lr_final / opt.lr\n",
    "    lr_l = np.clip((opt.n_epochs - epoch) / float(opt.n_epochs_decay + 1), 0, 1.0 - min_scale) + min_scale\n",
    "    return lr_l\n",
    "print(opt.n_epochs)\n",
    "print(opt.n_epochs_decay)\n",
    "epochs = np.arange(0, 200)\n",
    "lrs = []\n",
    "for epoch in epochs:\n",
    "    lr = lambda_rule(epoch)\n",
    "    lrs.append(lr)\n",
    "plt.plot(epochs, lrs)"
   ]
  },
  {
   "cell_type": "code",
   "execution_count": 17,
   "metadata": {},
   "outputs": [
    {
     "data": {
      "text/plain": [
       "[<matplotlib.lines.Line2D at 0x20507081790>]"
      ]
     },
     "execution_count": 17,
     "metadata": {},
     "output_type": "execute_result"
    },
    {
     "data": {
      "image/png": "[encoded data removed]",
      "text/plain": [
       "<Figure size 432x288 with 1 Axes>"
      ]
     },
     "metadata": {
      "needs_background": "light"
     },
     "output_type": "display_data"
    }
   ],
   "source": [
    "# Assuming optimizer has two groups.\n",
    "lambda1 = lambda epoch: epoch // 30\n",
    "lambda2 = lambda epoch: 0.95 ** epoch\n",
    "scheduler = lr_scheduler.LambdaLR(optimizer, lr_lambda=[lambda_rule])\n",
    "lrs = []\n",
    "for epoch in range(100):\n",
    "    #train(...)\n",
    "    #validate(...)\n",
    "    lr = scheduler.get_lr()\n",
    "    lrs.append(lr)\n",
    "    scheduler.step()\n",
    "plt.plot(lrs)"
   ]
  }
 ],
 "metadata": {
  "interpreter": {
   "hash": "1805df26fcd7f84ed3bcb87142fd962dd1853f1547f71a37639a6df6f62fc239"
  },
  "kernelspec": {
   "display_name": "Python 3.8.12 64-bit ('rl': conda)",
   "language": "python",
   "name": "python3"
  },
  "language_info": {
   "codemirror_mode": {
    "name": "ipython",
    "version": 3
   },
   "file_extension": ".py",
   "mimetype": "text/x-python",
   "name": "python",
   "nbconvert_exporter": "python",
   "pygments_lexer": "ipython3",
   "version": "3.8.12"
  },
  "orig_nbformat": 4
 },
 "nbformat": 4,
 "nbformat_minor": 2
}
